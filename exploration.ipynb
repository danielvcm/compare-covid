{
 "metadata": {
  "language_info": {
   "codemirror_mode": {
    "name": "ipython",
    "version": 3
   },
   "file_extension": ".py",
   "mimetype": "text/x-python",
   "name": "python",
   "nbconvert_exporter": "python",
   "pygments_lexer": "ipython3",
   "version": "3.8.3"
  },
  "orig_nbformat": 4,
  "kernelspec": {
   "name": "python3",
   "display_name": "Python 3.8.3 32-bit"
  },
  "interpreter": {
   "hash": "3352614b04f6a771ec3a392566a3763a34cdc96a177f762027aa589f02ec5f67"
  }
 },
 "nbformat": 4,
 "nbformat_minor": 2,
 "cells": [
  {
   "source": [
    "# Limpando os dados"
   ],
   "cell_type": "markdown",
   "metadata": {}
  },
  {
   "cell_type": "code",
   "execution_count": 1,
   "metadata": {},
   "outputs": [],
   "source": [
    "import pandas as pd\n",
    "from datetime import datetime, timedelta\n",
    "UFS = ['AC','AL','AP','AM','BA','CE','DF','ES','GO','MA','MT','MS','MG','PA','PB','PR','PE','PI','RJ','RN','RS','RO','RR','SC','SP','SE','TO']\n",
    "\n",
    "parte_1 = pd.read_csv(\"data\\HIST_PAINEL_COVIDBR_2020_Parte1_10jul2021.csv\",sep=\";\") #dados dos estados acabam na linha 4423\n",
    "parte_1 = parte_1.loc[0:4423]\n",
    "parte_2 = pd.read_csv(\"data\\HIST_PAINEL_COVIDBR_2020_Parte2_10jul2021.csv\",sep=\";\") #dados dos estados acabam na linha 4284\n",
    "parte_2 = parte_2.loc[0:4284]\n",
    "parte_3 = pd.read_csv(\"data\\HIST_PAINEL_COVIDBR_Parte3_10jul2021.csv\",sep=\";\") #dados dos estados acabam na linha 5348\n",
    "parte_3 = parte_3.loc[0:5348]"
   ]
  },
  {
   "cell_type": "code",
   "execution_count": 2,
   "metadata": {},
   "outputs": [
    {
     "output_type": "stream",
     "name": "stdout",
     "text": [
      "<class 'pandas.core.frame.DataFrame'>\nRangeIndex: 14058 entries, 0 to 14057\nData columns (total 9 columns):\n #   Column            Non-Null Count  Dtype         \n---  ------            --------------  -----         \n 0   regiao            14058 non-null  object        \n 1   estado            13554 non-null  object        \n 2   data              14058 non-null  datetime64[ns]\n 3   semanaEpi         14058 non-null  int64         \n 4   populacaoTCU2019  14058 non-null  float64       \n 5   casosAcumulado    14058 non-null  float64       \n 6   casosNovos        14058 non-null  int64         \n 7   obitosAcumulado   14058 non-null  int64         \n 8   obitosNovos       14058 non-null  int64         \ndtypes: datetime64[ns](1), float64(2), int64(4), object(2)\nmemory usage: 878.7+ KB\n"
     ]
    }
   ],
   "source": [
    "df_total = pd.concat([parte_1, parte_2, parte_3], ignore_index=True)\n",
    "df_total.data = df_total.data.apply(lambda x: datetime.strptime(x, \"%Y-%m-%d\"))\n",
    "df_total.drop(columns=[\"municipio\", \"coduf\", \"codmun\", \"codRegiaoSaude\",\"nomeRegiaoSaude\", \"Recuperadosnovos\", \"emAcompanhamentoNovos\", \"interior/metropolitana\"], inplace=True)\n",
    "df_total.info()"
   ]
  },
  {
   "cell_type": "code",
   "execution_count": 3,
   "metadata": {
    "tags": []
   },
   "outputs": [],
   "source": [
    "df_total.to_csv(\"data/clean_data.csv\",sep=\";\",index=False)"
   ]
  },
  {
   "cell_type": "code",
   "execution_count": null,
   "metadata": {},
   "outputs": [],
   "source": []
  }
 ]
}