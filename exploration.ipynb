{
 "metadata": {
  "language_info": {
   "codemirror_mode": {
    "name": "ipython",
    "version": 3
   },
   "file_extension": ".py",
   "mimetype": "text/x-python",
   "name": "python",
   "nbconvert_exporter": "python",
   "pygments_lexer": "ipython3",
   "version": "3.8.3"
  },
  "orig_nbformat": 4,
  "kernelspec": {
   "name": "python3",
   "display_name": "Python 3.8.3 32-bit"
  },
  "interpreter": {
   "hash": "3352614b04f6a771ec3a392566a3763a34cdc96a177f762027aa589f02ec5f67"
  }
 },
 "nbformat": 4,
 "nbformat_minor": 2,
 "cells": [
  {
   "source": [
    "# Limpando os dados"
   ],
   "cell_type": "markdown",
   "metadata": {}
  },
  {
   "cell_type": "code",
   "execution_count": 1,
   "metadata": {},
   "outputs": [],
   "source": [
    "import pandas as pd\n",
    "from datetime import datetime, timedelta\n",
    "UFS = ['AC','AL','AP','AM','BA','CE','DF','ES','GO','MA','MT','MS','MG','PA','PB','PR','PE','PI','RJ','RN','RS','RO','RR','SC','SP','SE','TO']\n",
    "\n",
    "parte_1 = pd.read_csv(\"data\\HIST_PAINEL_COVIDBR_2020_Parte1_10jul2021.csv\",sep=\";\")\n",
    "parte_2 = pd.read_csv(\"data\\HIST_PAINEL_COVIDBR_2020_Parte2_10jul2021.csv\",sep=\";\")\n",
    "parte_3 = pd.read_csv(\"data\\HIST_PAINEL_COVIDBR_Parte3_10jul2021.csv\",sep=\";\")"
   ]
  },
  {
   "cell_type": "code",
   "execution_count": 2,
   "metadata": {},
   "outputs": [],
   "source": [
    "df_total = pd.concat([parte_1, parte_2, parte_3],ignore_index=True)\n",
    "df_total.data = df_total.data.apply(lambda x: datetime.strptime(x, '%Y-%m-%d'))\n",
    "df_total.drop(columns=[\"coduf\", \"codmun\", \"codRegiaoSaude\", \"Recuperadosnovos\", \"emAcompanhamentoNovos\", \"interior/metropolitana\"], inplace=True)"
   ]
  },
  {
   "cell_type": "code",
   "execution_count": 4,
   "metadata": {
    "tags": []
   },
   "outputs": [
    {
     "output_type": "stream",
     "name": "stdout",
     "text": [
      "     regiao estado municipio nomeRegiaoSaude       data  semanaEpi  \\\n",
      "0    Brasil    NaN       NaN             NaN 2020-02-25          9   \n",
      "158   Norte     RO       NaN             NaN 2020-02-25          9   \n",
      "316   Norte     AC       NaN             NaN 2020-02-25          9   \n",
      "474   Norte     AM       NaN             NaN 2020-02-25          9   \n",
      "632   Norte     RR       NaN             NaN 2020-02-25          9   \n",
      "\n",
      "     populacaoTCU2019  casosAcumulado  casosNovos  obitosAcumulado  \\\n",
      "0         210147125.0             0.0           0                0   \n",
      "158         1777225.0             0.0           0                0   \n",
      "316          881935.0             0.0           0                0   \n",
      "474         4144597.0             0.0           0                0   \n",
      "632          605761.0             0.0           0                0   \n",
      "\n",
      "     obitosNovos  \n",
      "0              0  \n",
      "158            0  \n",
      "316            0  \n",
      "474            0  \n",
      "632            0  \n",
      "C:\\Users\\danie\\AppData\\Local\\Programs\\Python\\Python38-32\\lib\\site-packages\\pandas\\core\\generic.py:5303: SettingWithCopyWarning: \n",
      "A value is trying to be set on a copy of a slice from a DataFrame.\n",
      "Try using .loc[row_indexer,col_indexer] = value instead\n",
      "\n",
      "See the caveats in the documentation: https://pandas.pydata.org/pandas-docs/stable/user_guide/indexing.html#returning-a-view-versus-a-copy\n",
      "  self[name] = value\n",
      "casos:  AC 25/02/2020 0\n",
      "obitos:  AC 25/02/2020 0\n"
     ]
    }
   ],
   "source": [
    "date = datetime(2020,2,25)\n",
    "while date < datetime(2021,7,11):\n",
    "    for uf in UFS:\n",
    "        sum_cases = None\n",
    "        sum_deaths = None\n",
    "        if df_total[(df_total['data']==date) & (df_total['estado']==uf) & (pd.isna(df_total[\"municipio\"]))].casosNovos.iloc[0] == 0:\n",
    "            uf_this_day = df_total[(df_total['data']==date) & (df_total['estado']==uf)]\n",
    "            print(uf_this_day.head())\n",
    "            sum_cases = uf_this_day.casosNovos.sum()\n",
    "            df_total[(df_total['data']==date) & (df_total['estado']==uf) & (pd.isna(df_total[\"municipio\"]))].casosNovos = sum_cases\n",
    "        if df_total[(df_total['data']==date) & (df_total['estado']==uf) & (pd.isna(df_total[\"municipio\"]))].obitosNovos.iloc[0] == 0:\n",
    "            uf_this_day = df_total[(df_total['data']==date) & (df_total['estado']==uf) & (pd.notna(df_total[\"municipio\"]))]\n",
    "            sum_deaths =  uf_this_day.obitosNovos.sum()\n",
    "            df_total[(df_total['data']==date) & (df_total['estado']==uf) & (pd.isna(df_total[\"municipio\"]))].obitosNovos = sum_deaths\n",
    "        print(\"casos: \", uf, date.strftime(\"%d/%m/%Y\"), sum_cases)\n",
    "        print(\"obitos: \", uf, date.strftime(\"%d/%m/%Y\"), sum_deaths)\n",
    "        date = date + timedelta(days = 1.0)\n",
    "        break\n",
    "    break"
   ]
  },
  {
   "cell_type": "code",
   "execution_count": null,
   "metadata": {},
   "outputs": [],
   "source": [
    "df_total[(df_total[\"estado\"]==\"GO\")& (pd.isna(df_total[\"municipio\"]))]"
   ]
  },
  {
   "cell_type": "code",
   "execution_count": null,
   "metadata": {},
   "outputs": [],
   "source": [
    "brasil_semana_10 = parte_1[(parte_1['semanaEpi']==30) & (parte_1['regiao']=='Brasil')]\n",
    "brasil_semana_10.iloc[-1].loc['obitosAcumulado'] - brasil_semana_10.iloc[0].loc['obitosAcumulado'] "
   ]
  },
  {
   "cell_type": "code",
   "execution_count": null,
   "metadata": {},
   "outputs": [],
   "source": [
    "brasil_semana_10 = parte_1[(pd.isnull(parte_1['municipio'])) & (parte_1['estado'] == 'GO')]\n",
    "brasil_semana_10.populacaoTCU2019.fillna(brasil_semana_10.populacaoTCU2019.iloc[0])"
   ]
  }
 ]
}